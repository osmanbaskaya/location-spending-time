{
 "cells": [
  {
   "cell_type": "code",
   "execution_count": null,
   "metadata": {
    "collapsed": false
   },
   "outputs": [],
   "source": [
    "import matplotlib.pyplot as plt\n",
    "import matplotlib\n",
    "matplotlib.style.use('ggplot')\n",
    "import json\n",
    "%pylab inline\n",
    "import process\n",
    "\n",
    "places = json.load(open('places.json'))\n",
    "locator = process.Locator(places)\n",
    "\n",
    "data_fn = \"data.json\""
   ]
  },
  {
   "cell_type": "code",
   "execution_count": null,
   "metadata": {
    "collapsed": false
   },
   "outputs": [],
   "source": [
    "df = locator.process_data(data_fn, stop_after_num_day=None)\n",
    "\n",
    "def get_weekday_mask(data):\n",
    "    # Filter out weekends. Those are fun days.\n",
    "    return data['weekday'] < 6\n",
    "\n",
    "\n",
    "def weekday_work_hours_monthly(data):\n",
    "    mask = get_weekday_mask(data)\n",
    "    data[mask].groupby('month').mean()[list(places.keys())].plot.bar()\n",
    "    data[mask].groupby('month').sum()[list(places.keys())].plot.bar()\n",
    "    \n",
    "weekday_work_hours_monthly(df)"
   ]
  }
 ],
 "metadata": {
  "kernelspec": {
   "display_name": "Python [coarse-wsd-3]",
   "language": "python",
   "name": "Python [coarse-wsd-3]"
  },
  "language_info": {
   "codemirror_mode": {
    "name": "ipython",
    "version": 3
   },
   "file_extension": ".py",
   "mimetype": "text/x-python",
   "name": "python",
   "nbconvert_exporter": "python",
   "pygments_lexer": "ipython3",
   "version": "3.6.1"
  }
 },
 "nbformat": 4,
 "nbformat_minor": 0
}
